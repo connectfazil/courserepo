{
 "cells": [
  {
   "cell_type": "code",
   "execution_count": 3,
   "metadata": {},
   "outputs": [],
   "source": [
    "import re\n",
    "import csv\n",
    "\n",
    "error_log_filename = \"logs-insights-results (58).csv\"\n",
    "\n",
    "dict_infoerror = {}\n",
    "\n",
    "#dictionary to file\n",
    "def save_2dict_to_xlsx(dict, filename):\n",
    "    with open(filename, 'w', newline='') as file:\n",
    "        writer = csv.writer(file)\n",
    "        writer.writerow([\"DB_name\",\"User_name\",\"Error\",\"Count\"])\n",
    "        for key, value in dict.items():\n",
    "            split_list = key.split(\" ___ \")\n",
    "            writer.writerow([split_list[0],split_list[1],split_list[2],value])\n",
    "\n",
    "def error_processing(error):\n",
    "    if error.endswith('\"'):\n",
    "        error = error[:-1]\n",
    "    error = error.replace('\"\"', '\"')\n",
    "    dict_key = db_name + \" ___ \" + user_name + \" ___ \" + error\n",
    "    return(dict_key)\n",
    "\n",
    "\n",
    "with open(error_log_filename, 'r') as file:\n",
    "    # Read the file line by line\n",
    "    for line in file:\n",
    "        error_match = re.search(r'\\((\\d+)\\):(.*?)@(.*?):\\[.*?\\]:ERROR:\\s*(.*)', line)\n",
    "\n",
    "        db_name = error_match.group(3) if error_match else \"Nill\"\n",
    "        user_name = error_match.group(2) if error_match else \"Nill\"\n",
    "        error = error_match.group(4) if error_match else None\n",
    "\n",
    "        if error is not None:\n",
    "            dict_key = error_processing(error)\n",
    "            if dict_key not in dict_infoerror:\n",
    "                dict_infoerror[dict_key] = 1\n",
    "            else:\n",
    "                dict_infoerror[dict_key] += 1\n",
    "\n",
    "# Sorting the dictionary\n",
    "sorted_infoerror = dict(sorted(dict_infoerror.items(), key=lambda x: x[1], reverse=True))\n",
    "\n",
    "result_logfile = str((error_log_filename.split('.'))[0] + \"_result.csv\")\n",
    "\n",
    "save_2dict_to_xlsx(sorted_infoerror, result_logfile)"
   ]
  }
 ],
 "metadata": {
  "kernelspec": {
   "display_name": "Python 3",
   "language": "python",
   "name": "python3"
  },
  "language_info": {
   "codemirror_mode": {
    "name": "ipython",
    "version": 3
   },
   "file_extension": ".py",
   "mimetype": "text/x-python",
   "name": "python",
   "nbconvert_exporter": "python",
   "pygments_lexer": "ipython3",
   "version": "3.11.3"
  },
  "orig_nbformat": 4
 },
 "nbformat": 4,
 "nbformat_minor": 2
}
